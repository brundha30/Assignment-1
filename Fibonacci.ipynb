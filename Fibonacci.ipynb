{
 "cells": [
  {
   "cell_type": "markdown",
   "metadata": {},
   "source": [
    "# Lets Play With Fibonacci"
   ]
  },
  {
   "cell_type": "code",
   "execution_count": 2,
   "metadata": {},
   "outputs": [
    {
     "name": "stdout",
     "output_type": "stream",
     "text": [
      "Enter the first number:0\n",
      "Enter the second number:1\n",
      "0 1 1 2 3 5 8 13 21 34 \n"
     ]
    }
   ],
   "source": [
    "num_1=eval(input(\"Enter the first number:\"))\n",
    "num_2=eval(input(\"Enter the second number:\"))\n",
    "print(num_1,num_2,end=\" \")\n",
    "\n",
    "for i in range(1,9):\n",
    "    num_3=num_1 + num_2\n",
    "    num_1=num_2\n",
    "    num_2=num_3\n",
    "    print((num_3),end=\" \")\n",
    "print()"
   ]
  },
  {
   "cell_type": "markdown",
   "metadata": {},
   "source": [
    "# Using int datatype"
   ]
  },
  {
   "cell_type": "code",
   "execution_count": 3,
   "metadata": {},
   "outputs": [
    {
     "name": "stdout",
     "output_type": "stream",
     "text": [
      "Enter the first number:0\n",
      "Enter the second number:1\n",
      "0 1 1 2 3 5 8 13 21 34 \n"
     ]
    }
   ],
   "source": [
    "num_1=int(input(\"Enter the first number:\"))\n",
    "num_2=int(input(\"Enter the second number:\"))\n",
    "print(num_1,num_2,end=\" \")\n",
    "\n",
    "for i in range(1,9):\n",
    "    num_3=num_1 + num_2\n",
    "    num_1=num_2\n",
    "    num_2=num_3\n",
    "    print((num_3),end=\" \")\n",
    "print()"
   ]
  },
  {
   "cell_type": "code",
   "execution_count": null,
   "metadata": {},
   "outputs": [],
   "source": []
  }
 ],
 "metadata": {
  "kernelspec": {
   "display_name": "Python 3",
   "language": "python",
   "name": "python3"
  },
  "language_info": {
   "codemirror_mode": {
    "name": "ipython",
    "version": 3
   },
   "file_extension": ".py",
   "mimetype": "text/x-python",
   "name": "python",
   "nbconvert_exporter": "python",
   "pygments_lexer": "ipython3",
   "version": "3.7.6"
  }
 },
 "nbformat": 4,
 "nbformat_minor": 4
}
